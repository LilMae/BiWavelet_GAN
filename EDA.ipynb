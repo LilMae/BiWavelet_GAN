{
 "cells": [
  {
   "cell_type": "code",
   "execution_count": 5,
   "metadata": {},
   "outputs": [],
   "source": [
    "import numpy as np\n",
    "import pandas as pd\n",
    "import random\n",
    "import seaborn as sns\n",
    "import matplotlib.pyplot as plt\n",
    "import os\n",
    "from scipy import interpolate\n",
    "from sklearn.preprocessing import MinMaxScaler"
   ]
  },
  {
   "cell_type": "code",
   "execution_count": 2,
   "metadata": {},
   "outputs": [],
   "source": [
    "data_root = os.path.join(os.getcwd(),'data')\n",
    "\n",
    "sensor1 = pd.read_csv(os.path.join(data_root,'g1_sensor1.csv'), names=['time', 'normal', 'type1', 'type2', 'type3'])\n",
    "sensor2 = pd.read_csv(os.path.join(data_root,'g1_sensor2.csv'), names=['time', 'normal', 'type1', 'type2', 'type3'])\n",
    "sensor3 = pd.read_csv(os.path.join(data_root,'g1_sensor3.csv'), names=['time', 'normal', 'type1', 'type2', 'type3'])\n",
    "sensor4 = pd.read_csv(os.path.join(data_root,'g1_sensor4.csv'), names=['time', 'normal', 'type1', 'type2', 'type3'])"
   ]
  },
  {
   "cell_type": "code",
   "execution_count": 3,
   "metadata": {},
   "outputs": [],
   "source": [
    "x_new = np.arange(0,140,0.001)\n",
    "y_new1 = []\n",
    "y_new2 = []\n",
    "y_new3 = []\n",
    "y_new4 = []\n",
    "\n",
    "for item in ['normal', 'type1', 'type2', 'type3']:\n",
    "    f_linear1 = interpolate.interp1d(sensor1['time'], sensor1[item], kind ='linear')\n",
    "    y_new1.append(f_linear1(x_new))\n",
    "    f_linear2 = interpolate.interp1d(sensor2['time'], sensor2[item], kind ='linear')\n",
    "    y_new2.append(f_linear1(x_new))\n",
    "    f_linear3 = interpolate.interp1d(sensor3['time'], sensor3[item], kind ='linear')\n",
    "    y_new3.append(f_linear1(x_new))\n",
    "    f_linear4 = interpolate.interp1d(sensor4['time'], sensor4[item], kind ='linear')\n",
    "    y_new4.append(f_linear1(x_new))\n",
    "    \n",
    "sensor1 = pd.DataFrame(np.array(y_new1).T, columns=['normal', 'type1', 'type2', 'type3'])\n",
    "sensor2 = pd.DataFrame(np.array(y_new2).T, columns=['normal', 'type1', 'type2', 'type3'])\n",
    "sensor3 = pd.DataFrame(np.array(y_new3).T, columns=['normal', 'type1', 'type2', 'type3'])\n",
    "sensor4 = pd.DataFrame(np.array(y_new4).T, columns=['normal', 'type1', 'type2', 'type3'])\n",
    "\n",
    "normal_ = pd.concat([sensor1['normal'], sensor2['normal'], sensor3['normal'], sensor4['normal']], axis=1)\n",
    "type1_ = pd.concat([sensor1[\"type1\"], sensor2[\"type1\"], sensor3[\"type1\"], sensor4[\"type1\"]], axis=1)\n",
    "type2_= pd.concat([sensor1[\"type2\"], sensor2[\"type2\"], sensor3[\"type2\"], sensor4[\"type2\"]], axis=1)\n",
    "type3_= pd.concat([sensor1[\"type3\"], sensor2[\"type3\"], sensor3[\"type3\"], sensor4[\"type3\"]], axis=1)\n",
    "\n",
    "normal_.columns = ['s1','s2','s3','s4']\n",
    "type1_.columns  = ['s1','s2','s3','s4']\n",
    "type2_.columns  = ['s1','s2','s3','s4']\n",
    "type3_.columns  = ['s1','s2','s3','s4']\n"
   ]
  },
  {
   "cell_type": "code",
   "execution_count": 4,
   "metadata": {},
   "outputs": [],
   "source": [
    "M = 15\n",
    "\n",
    "normal_s1 = np.convolve(normal_['s1'], np.ones(M), 'valid') / M\n",
    "normal_s1 = normal_s1.reshape(len(normal_s1),1)\n",
    "normal_s2 = np.convolve(normal_['s2'], np.ones(M), 'valid') / M\n",
    "normal_s2 = normal_s2.reshape(len(normal_s2),1)\n",
    "normal_s3 = np.convolve(normal_['s3'], np.ones(M), 'valid') / M\n",
    "normal_s3 = normal_s3.reshape(len(normal_s3),1)\n",
    "normal_s4 = np.convolve(normal_['s4'], np.ones(M), 'valid') / M\n",
    "normal_s4 = normal_s4.reshape(len(normal_s4),1)\n",
    "type1_s1 = np.convolve(type1_['s1'], np.ones(M), 'valid') / M\n",
    "type1_s1 = type1_s1.reshape(len(type1_s1),1)\n",
    "type1_s2 = np.convolve(type1_['s2'], np.ones(M), 'valid') / M\n",
    "type1_s2 = type1_s2.reshape(len(type1_s2),1)\n",
    "type1_s3 = np.convolve(type1_['s3'], np.ones(M), 'valid') / M\n",
    "type1_s3 = type1_s3.reshape(len(type1_s3),1)\n",
    "type1_s4 = np.convolve(type1_['s4'], np.ones(M), 'valid') / M\n",
    "type1_s4 = type1_s4.reshape(len(type1_s4),1)\n",
    "type2_s1 = np.convolve(type2_['s1'], np.ones(M), 'valid') / M\n",
    "type2_s1 = type2_s1.reshape(len(type2_s1),1)\n",
    "type2_s2 = np.convolve(type2_['s2'], np.ones(M), 'valid') / M\n",
    "type2_s2 = type2_s2.reshape(len(type2_s2),1)\n",
    "type2_s3 = np.convolve(type2_['s3'], np.ones(M), 'valid') / M\n",
    "type2_s3 = type2_s3.reshape(len(type2_s3),1)\n",
    "type2_s4 = np.convolve(type2_['s4'], np.ones(M), 'valid') / M\n",
    "type2_s4 = type2_s4.reshape(len(type2_s4),1)\n",
    "type3_s1 = np.convolve(type3_['s1'], np.ones(M), 'valid') / M\n",
    "type3_s1 = type3_s1.reshape(len(type3_s1),1)\n",
    "type3_s2 = np.convolve(type3_['s2'], np.ones(M), 'valid') / M\n",
    "type3_s2 = type3_s2.reshape(len(type3_s2),1)\n",
    "type3_s3 = np.convolve(type3_['s3'], np.ones(M), 'valid') / M\n",
    "type3_s3 = type3_s3.reshape(len(type3_s3),1)\n",
    "type3_s4 = np.convolve(type3_['s4'], np.ones(M), 'valid') / M\n",
    "type3_s4 = type3_s4.reshape(len(type3_s4),1)\n",
    "\n",
    "normal_temp = np.concatenate((normal_s1,normal_s2,normal_s3,normal_s4), axis =1)\n",
    "type1_temp = np.concatenate((type1_s1,type1_s2,type1_s3,type1_s4), axis =1)\n",
    "type2_temp = np.concatenate((type2_s1,type2_s2,type2_s3,type2_s4), axis =1)\n",
    "type3_temp = np.concatenate((type3_s1,type3_s2,type3_s3,type3_s4), axis =1)"
   ]
  },
  {
   "cell_type": "code",
   "execution_count": 6,
   "metadata": {},
   "outputs": [
    {
     "name": "stderr",
     "output_type": "stream",
     "text": [
      "c:\\Users\\LilMae\\.conda\\envs\\Vibration\\lib\\site-packages\\sklearn\\base.py:439: UserWarning: X does not have valid feature names, but MinMaxScaler was fitted with feature names\n",
      "  warnings.warn(\n",
      "c:\\Users\\LilMae\\.conda\\envs\\Vibration\\lib\\site-packages\\sklearn\\base.py:439: UserWarning: X does not have valid feature names, but MinMaxScaler was fitted with feature names\n",
      "  warnings.warn(\n",
      "c:\\Users\\LilMae\\.conda\\envs\\Vibration\\lib\\site-packages\\sklearn\\base.py:439: UserWarning: X does not have valid feature names, but MinMaxScaler was fitted with feature names\n",
      "  warnings.warn(\n",
      "c:\\Users\\LilMae\\.conda\\envs\\Vibration\\lib\\site-packages\\sklearn\\base.py:439: UserWarning: X does not have valid feature names, but MinMaxScaler was fitted with feature names\n",
      "  warnings.warn(\n"
     ]
    }
   ],
   "source": [
    "scaler = MinMaxScaler()\n",
    "scaler.fit(normal_)\n",
    "normal = scaler.transform(normal_temp)\n",
    "type1  = scaler.transform(type1_temp)\n",
    "type2  = scaler.transform(type2_temp)\n",
    "type3  = scaler.transform(type3_temp)"
   ]
  },
  {
   "cell_type": "code",
   "execution_count": 12,
   "metadata": {},
   "outputs": [],
   "source": [
    "normal_pd = pd.DataFrame(normal)\n",
    "type1_pd = pd.DataFrame(type1)\n",
    "type2_pd = pd.DataFrame(type2)\n",
    "type3_pd = pd.DataFrame(type3)"
   ]
  },
  {
   "cell_type": "code",
   "execution_count": 16,
   "metadata": {},
   "outputs": [
    {
     "name": "stdout",
     "output_type": "stream",
     "text": [
      "normal : 139986\n",
      "type1 : 139986\n",
      "type2 : 139986\n",
      "type3 : 139986\n"
     ]
    }
   ],
   "source": [
    "print(f'normal : {len(normal)}')\n",
    "print(f'type1 : {len(type1)}')\n",
    "print(f'type2 : {len(type2)}')\n",
    "print(f'type3 : {len(type3)}')"
   ]
  },
  {
   "cell_type": "code",
   "execution_count": null,
   "metadata": {},
   "outputs": [],
   "source": []
  },
  {
   "cell_type": "code",
   "execution_count": null,
   "metadata": {},
   "outputs": [],
   "source": []
  }
 ],
 "metadata": {
  "kernelspec": {
   "display_name": "Vibration",
   "language": "python",
   "name": "python3"
  },
  "language_info": {
   "codemirror_mode": {
    "name": "ipython",
    "version": 3
   },
   "file_extension": ".py",
   "mimetype": "text/x-python",
   "name": "python",
   "nbconvert_exporter": "python",
   "pygments_lexer": "ipython3",
   "version": "3.8.16"
  },
  "orig_nbformat": 4
 },
 "nbformat": 4,
 "nbformat_minor": 2
}
